{
 "cells": [
  {
   "cell_type": "code",
   "execution_count": 1,
   "metadata": {},
   "outputs": [
    {
     "name": "stderr",
     "output_type": "stream",
     "text": [
      "DEBUG:2022-08-25 21:43:06,446:MSG1\n",
      "INFO:2022-08-25 21:43:06,448:MSG2\n",
      "WARNING:2022-08-25 21:43:06,449:MSG3\n",
      "ERROR:2022-08-25 21:43:06,450:MSG4\n",
      "CRITICAL:2022-08-25 21:43:06,451:MSG5\n"
     ]
    }
   ],
   "source": [
    "import logging as log\n",
    "\n",
    "log.basicConfig(\n",
    "    level=log.DEBUG,\n",
    "    format='%(levelname)s:%(asctime)s:%(message)s',\n",
    "    handlers=[\n",
    "        log.FileHandler(\"log.txt\", \"w\"),\n",
    "        log.StreamHandler()\n",
    "    ]\n",
    ")\n",
    "\n",
    "log.debug('MSG1')\n",
    "log.info('MSG2')\n",
    "log.warning('MSG3')\n",
    "log.error('MSG4')\n",
    "log.critical(\"MSG5\")\n"
   ]
  }
 ],
 "metadata": {
  "interpreter": {
   "hash": "916dbcbb3f70747c44a77c7bcd40155683ae19c65e1c03b4aa3499c5328201f1"
  },
  "kernelspec": {
   "display_name": "Python 3.8.10 64-bit",
   "language": "python",
   "name": "python3"
  },
  "language_info": {
   "codemirror_mode": {
    "name": "ipython",
    "version": 3
   },
   "file_extension": ".py",
   "mimetype": "text/x-python",
   "name": "python",
   "nbconvert_exporter": "python",
   "pygments_lexer": "ipython3",
   "version": "3.8.10"
  },
  "orig_nbformat": 4
 },
 "nbformat": 4,
 "nbformat_minor": 2
}
