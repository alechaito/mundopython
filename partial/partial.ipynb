{
 "cells": [
  {
   "cell_type": "code",
   "execution_count": 4,
   "metadata": {},
   "outputs": [
    {
     "name": "stdout",
     "output_type": "stream",
     "text": [
      "256\n",
      "352\n",
      "512\n"
     ]
    }
   ],
   "source": [
    "def delta(a, b, c):\n",
    "    return b**2 - 4*a*c\n",
    "\n",
    "print(delta(2, 8, -24))\n",
    "print(delta(2, 8, -36))\n",
    "print(delta(2, 8, -56))\n"
   ]
  },
  {
   "cell_type": "code",
   "execution_count": 9,
   "metadata": {},
   "outputs": [
    {
     "name": "stdout",
     "output_type": "stream",
     "text": [
      "256\n",
      "352\n",
      "512\n"
     ]
    }
   ],
   "source": [
    "from functools import partial\n",
    "  \n",
    "def delta(a, b, c):\n",
    "    return b**2 - 4*a*c\n",
    "  \n",
    "\n",
    "delta_fixo = partial(delta, a=2, b=8)\n",
    "  \n",
    "print(delta_fixo(c=-24))\n",
    "print(delta_fixo(c=-36))\n",
    "print(delta_fixo(c=-56))"
   ]
  }
 ],
 "metadata": {
  "interpreter": {
   "hash": "916dbcbb3f70747c44a77c7bcd40155683ae19c65e1c03b4aa3499c5328201f1"
  },
  "kernelspec": {
   "display_name": "Python 3.8.10 64-bit",
   "language": "python",
   "name": "python3"
  },
  "language_info": {
   "codemirror_mode": {
    "name": "ipython",
    "version": 3
   },
   "file_extension": ".py",
   "mimetype": "text/x-python",
   "name": "python",
   "nbconvert_exporter": "python",
   "pygments_lexer": "ipython3",
   "version": "3.8.10"
  },
  "orig_nbformat": 4
 },
 "nbformat": 4,
 "nbformat_minor": 2
}
