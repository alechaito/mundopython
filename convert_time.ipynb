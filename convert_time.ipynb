{
 "cells": [
  {
   "cell_type": "code",
   "execution_count": 44,
   "metadata": {},
   "outputs": [
    {
     "name": "stdout",
     "output_type": "stream",
     "text": [
      "4\n"
     ]
    }
   ],
   "source": [
    "matrix = [\n",
    "    [11, 2, 4],\n",
    "    [4, 5, 6],\n",
    "    [10, 8, -12]\n",
    "]\n",
    "\n",
    "linhas = len(matrix)\n",
    "diagonal = 0\n",
    "diagonal_inversa = 0\n",
    "\n",
    "for i in range(linhas):\n",
    "    diagonal += matrix[i][i]\n",
    "\n",
    "w = 0\n",
    "for j in range(linhas, -1):\n",
    "    print(j)\n",
    "    diagonal_inversa += matrix[w][j-1]\n",
    "    w += 1\n",
    "\n",
    "print(abs(diagonal - diagonal_inversa))"
   ]
  }
 ],
 "metadata": {
  "interpreter": {
   "hash": "916dbcbb3f70747c44a77c7bcd40155683ae19c65e1c03b4aa3499c5328201f1"
  },
  "kernelspec": {
   "display_name": "Python 3.8.10 64-bit",
   "language": "python",
   "name": "python3"
  },
  "language_info": {
   "codemirror_mode": {
    "name": "ipython",
    "version": 3
   },
   "file_extension": ".py",
   "mimetype": "text/x-python",
   "name": "python",
   "nbconvert_exporter": "python",
   "pygments_lexer": "ipython3",
   "version": "3.8.10"
  },
  "orig_nbformat": 4
 },
 "nbformat": 4,
 "nbformat_minor": 2
}
