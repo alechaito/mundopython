{
 "cells": [
  {
   "cell_type": "code",
   "execution_count": 2,
   "metadata": {},
   "outputs": [
    {
     "name": "stdout",
     "output_type": "stream",
     "text": [
      "1\n",
      "121\n",
      "12321\n",
      "1234321\n",
      "123454321\n"
     ]
    }
   ],
   "source": [
    "size = 5\n",
    "\n",
    "def create_palindrome(size):\n",
    "    numbers = [\n",
    "        number \n",
    "        for number in range(1, size+1)\n",
    "    ]\n",
    "    reversed_numbers = numbers.copy()[::-1]\n",
    "    numbers.extend(reversed_numbers[1:])\n",
    "    return ''.join(map(str, numbers))\n",
    "\n",
    "result = list(\n",
    "    map(create_palindrome, range(1, size+1))\n",
    ")\n",
    "\n",
    "print(*result, sep=\"\\n\")"
   ]
  }
 ],
 "metadata": {
  "kernelspec": {
   "display_name": "Python 3.9.13 64-bit",
   "language": "python",
   "name": "python3"
  },
  "language_info": {
   "codemirror_mode": {
    "name": "ipython",
    "version": 3
   },
   "file_extension": ".py",
   "mimetype": "text/x-python",
   "name": "python",
   "nbconvert_exporter": "python",
   "pygments_lexer": "ipython3",
   "version": "3.8.10"
  },
  "orig_nbformat": 4,
  "vscode": {
   "interpreter": {
    "hash": "f9f85f796d01129d0dd105a088854619f454435301f6ffec2fea96ecbd9be4ac"
   }
  }
 },
 "nbformat": 4,
 "nbformat_minor": 2
}
