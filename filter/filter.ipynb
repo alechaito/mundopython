{
 "cells": [
  {
   "cell_type": "code",
   "execution_count": 12,
   "metadata": {},
   "outputs": [
    {
     "name": "stdout",
     "output_type": "stream",
     "text": [
      "2\n",
      "8\n",
      "10\n"
     ]
    }
   ],
   "source": [
    "def numero_par(num):\n",
    "    if num % 2 == 0:\n",
    "        return True\n",
    "    return False\n",
    "\n",
    "numeros = [2, 7, 8, 10]\n",
    "\n",
    "for numero in numeros:\n",
    "    if numero_par(numero):\n",
    "        print(numero)\n"
   ]
  },
  {
   "cell_type": "code",
   "execution_count": 13,
   "metadata": {},
   "outputs": [
    {
     "name": "stdout",
     "output_type": "stream",
     "text": [
      "Resultado: <filter object at 0x7f5bf4198910>\n",
      "Resultado convertido: [2, 8, 10]\n"
     ]
    }
   ],
   "source": [
    "def numero_par(num):\n",
    "    if num % 2 == 0:\n",
    "        return True\n",
    "    return False\n",
    "\n",
    "numeros = [2, 7, 8, 10]\n",
    "\n",
    "resultado = filter(numero_par, numeros)\n",
    "\n",
    "print(f\"Resultado: {resultado}\")\n",
    "\n",
    "resultado = list(resultado)\n",
    "print(f\"Resultado convertido: {resultado}\")\n"
   ]
  }
 ],
 "metadata": {
  "interpreter": {
   "hash": "916dbcbb3f70747c44a77c7bcd40155683ae19c65e1c03b4aa3499c5328201f1"
  },
  "kernelspec": {
   "display_name": "Python 3.8.10 64-bit",
   "language": "python",
   "name": "python3"
  },
  "language_info": {
   "codemirror_mode": {
    "name": "ipython",
    "version": 3
   },
   "file_extension": ".py",
   "mimetype": "text/x-python",
   "name": "python",
   "nbconvert_exporter": "python",
   "pygments_lexer": "ipython3",
   "version": "3.8.10"
  },
  "orig_nbformat": 4
 },
 "nbformat": 4,
 "nbformat_minor": 2
}
