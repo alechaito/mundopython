{
 "cells": [
  {
   "cell_type": "code",
   "execution_count": 8,
   "metadata": {},
   "outputs": [
    {
     "name": "stdout",
     "output_type": "stream",
     "text": [
      "Resultado: [1, 4, 9, 16]\n"
     ]
    }
   ],
   "source": [
    "def calculaQuadrado(n):\n",
    "    return n*n\n",
    "\n",
    "numeros = [1, 2, 3, 4]\n",
    "\n",
    "quadrados = []\n",
    "for numero in numeros:\n",
    "    quadrados.append(calculaQuadrado(numero))\n",
    "\n",
    "print(f\"Resultado: {quadrados}\")"
   ]
  },
  {
   "cell_type": "code",
   "execution_count": 9,
   "metadata": {},
   "outputs": [
    {
     "name": "stdout",
     "output_type": "stream",
     "text": [
      "Resultado <map object at 0x7f1cd42bd190>\n",
      "Resultado convertido: [1, 4, 9, 16]\n"
     ]
    }
   ],
   "source": [
    "def calculaQuadrado(n):\n",
    "    return n*n\n",
    "\n",
    "\n",
    "numeros = [1, 2, 3, 4]\n",
    "resultado = map(calculaQuadrado, numeros)\n",
    "print(f\"Resultado {resultado}\")\n",
    "\n",
    "# convertendo objeto map para uma lista\n",
    "listaResultado= list(resultado)\n",
    "print(f\"Resultado convertido: {listaResultado}\")"
   ]
  }
 ],
 "metadata": {
  "interpreter": {
   "hash": "916dbcbb3f70747c44a77c7bcd40155683ae19c65e1c03b4aa3499c5328201f1"
  },
  "kernelspec": {
   "display_name": "Python 3.8.10 64-bit",
   "language": "python",
   "name": "python3"
  },
  "language_info": {
   "codemirror_mode": {
    "name": "ipython",
    "version": 3
   },
   "file_extension": ".py",
   "mimetype": "text/x-python",
   "name": "python",
   "nbconvert_exporter": "python",
   "pygments_lexer": "ipython3",
   "version": "3.8.10"
  },
  "orig_nbformat": 4
 },
 "nbformat": 4,
 "nbformat_minor": 2
}
