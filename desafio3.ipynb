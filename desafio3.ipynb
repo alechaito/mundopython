{
 "cells": [
  {
   "cell_type": "code",
   "execution_count": 2,
   "metadata": {},
   "outputs": [
    {
     "name": "stdout",
     "output_type": "stream",
     "text": [
      "[('c', 2), ('d', 1), ('e', 1), ('b', 3), ('a', 2)]\n",
      "[('a', 2), ('b', 3), ('c', 2), ('d', 1), ('e', 1)]\n",
      "[('b', 3), ('a', 2), ('c', 2), ('d', 1), ('e', 1)]\n",
      "------------------------\n",
      "\n",
      "b 3\n",
      "a 2\n",
      "c 2\n"
     ]
    }
   ],
   "source": [
    "letras = 'aabbbccde'\n",
    "\n",
    "letras_unicas = list(set(letras))\n",
    "\n",
    "resultado = []\n",
    "for letra in letras_unicas:\n",
    "    resultado.append( (letra, letras.count(letra)) )\n",
    "\n",
    "print(resultado)\n",
    "\n",
    "# ordeno por ordem alfabética\n",
    "resultado = sorted(resultado, key=lambda item: item[0])\n",
    "print(resultado)\n",
    "\n",
    "# ordeno pelo numero de ocorrencias na ordem inversa do maior para o menor\n",
    "resultado = sorted(resultado, key=lambda item: item[1], reverse=True)\n",
    "print(resultado)\n",
    "\n",
    "print(\"------------------------\\n\")\n",
    "# imprimir os 3 resultados mais comuns\n",
    "for i in range(3):\n",
    "    print(f\"{resultado[i][0]} {resultado[i][1]}\")"
   ]
  }
 ],
 "metadata": {
  "interpreter": {
   "hash": "916dbcbb3f70747c44a77c7bcd40155683ae19c65e1c03b4aa3499c5328201f1"
  },
  "kernelspec": {
   "display_name": "Python 3.8.10 64-bit",
   "language": "python",
   "name": "python3"
  },
  "language_info": {
   "codemirror_mode": {
    "name": "ipython",
    "version": 3
   },
   "file_extension": ".py",
   "mimetype": "text/x-python",
   "name": "python",
   "nbconvert_exporter": "python",
   "pygments_lexer": "ipython3",
   "version": "3.8.10"
  },
  "orig_nbformat": 4
 },
 "nbformat": 4,
 "nbformat_minor": 2
}
