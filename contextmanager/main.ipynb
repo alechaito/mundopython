{
 "cells": [
  {
   "cell_type": "markdown",
   "metadata": {},
   "source": [
    "1 - serve pra tudo que voce precisa abrir e fechar\n",
    "2 - arquivos, conexoes com banco de dados, threads\n",
    "3 - Foi implementado na PEP 343\n",
    "4 - Os objetos capazes de gerenciar contexto \n",
    "implemenetam o __enter__ e o __exit__"
   ]
  },
  {
   "cell_type": "code",
   "execution_count": 1,
   "metadata": {},
   "outputs": [],
   "source": [
    "#modo antigo de criar\n",
    "try:\n",
    "    file = open('test.txt', 'w')\n",
    "    file.write('Ola Mundo')\n",
    "finally:\n",
    "    file.close()\n"
   ]
  },
  {
   "cell_type": "code",
   "execution_count": 2,
   "metadata": {},
   "outputs": [],
   "source": [
    "with open('test.txt', 'w') as file:\n",
    "    file.write(\"Ola mundo\")"
   ]
  },
  {
   "cell_type": "code",
   "execution_count": 3,
   "metadata": {},
   "outputs": [
    {
     "name": "stdout",
     "output_type": "stream",
     "text": [
      "Entrei no contexto\n",
      "Executando contexto\n",
      "Sai do contexto\n"
     ]
    }
   ],
   "source": [
    "class Test:\n",
    "    def __init__(self) -> None:\n",
    "        pass\n",
    "\n",
    "    def __enter__(self):\n",
    "        print(\"Entrei no contexto\")\n",
    "    \n",
    "    def __exit__(\n",
    "        self,\n",
    "        type, \n",
    "        value, \n",
    "        traceback\n",
    "    ):\n",
    "        print(\"Sai do contexto\")\n",
    "    \n",
    "\n",
    "with Test() as test:\n",
    "    print(\"Executando contexto\")"
   ]
  }
 ],
 "metadata": {
  "interpreter": {
   "hash": "916dbcbb3f70747c44a77c7bcd40155683ae19c65e1c03b4aa3499c5328201f1"
  },
  "kernelspec": {
   "display_name": "Python 3.8.10 64-bit",
   "language": "python",
   "name": "python3"
  },
  "language_info": {
   "codemirror_mode": {
    "name": "ipython",
    "version": 3
   },
   "file_extension": ".py",
   "mimetype": "text/x-python",
   "name": "python",
   "nbconvert_exporter": "python",
   "pygments_lexer": "ipython3",
   "version": "3.8.10"
  },
  "orig_nbformat": 4
 },
 "nbformat": 4,
 "nbformat_minor": 2
}
