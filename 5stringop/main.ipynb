{
 "cells": [
  {
   "cell_type": "code",
   "execution_count": 12,
   "metadata": {},
   "outputs": [
    {
     "name": "stdout",
     "output_type": "stream",
     "text": [
      "***Hello World***\n"
     ]
    }
   ],
   "source": [
    "#center\n",
    "string = \"Hello World\"\n",
    "new_string = string.center(len(string)+6, '*')\n",
    "print(new_string)"
   ]
  },
  {
   "cell_type": "code",
   "execution_count": 8,
   "metadata": {},
   "outputs": [
    {
     "name": "stdout",
     "output_type": "stream",
     "text": [
      "Hello World With Python\n"
     ]
    }
   ],
   "source": [
    "#join\n",
    "string = [\n",
    "    \"Hello\", \n",
    "    \"World\", \n",
    "    \"With\", \n",
    "    \"Python\"\n",
    "]\n",
    "# join elements of text with space\n",
    "print(' '.join(string))"
   ]
  },
  {
   "cell_type": "code",
   "execution_count": 9,
   "metadata": {},
   "outputs": [
    {
     "name": "stdout",
     "output_type": "stream",
     "text": [
      "{97: '123', 98: '456', 99: '789'}\n"
     ]
    }
   ],
   "source": [
    "dict = {\n",
    "    \"a\": \"123\", \n",
    "    \"b\": \"456\", \n",
    "    \"c\": \"789\"\n",
    "}\n",
    "string = \"abc\"\n",
    "# convert to unicode\n",
    "print(string.maketrans(dict))"
   ]
  },
  {
   "cell_type": "code",
   "execution_count": 10,
   "metadata": {},
   "outputs": [
    {
     "name": "stdout",
     "output_type": "stream",
     "text": [
      "00000Hello World\n"
     ]
    }
   ],
   "source": [
    "#zfill\n",
    "string = \"Hello World\"\n",
    "print(string.zfill(len(string)+5))"
   ]
  },
  {
   "cell_type": "code",
   "execution_count": 11,
   "metadata": {},
   "outputs": [
    {
     "name": "stdout",
     "output_type": "stream",
     "text": [
      "Hello World\n"
     ]
    }
   ],
   "source": [
    "#title\n",
    "string = \"hello world\"\n",
    "print(string.title())"
   ]
  }
 ],
 "metadata": {
  "interpreter": {
   "hash": "916dbcbb3f70747c44a77c7bcd40155683ae19c65e1c03b4aa3499c5328201f1"
  },
  "kernelspec": {
   "display_name": "Python 3.8.10 64-bit",
   "language": "python",
   "name": "python3"
  },
  "language_info": {
   "codemirror_mode": {
    "name": "ipython",
    "version": 3
   },
   "file_extension": ".py",
   "mimetype": "text/x-python",
   "name": "python",
   "nbconvert_exporter": "python",
   "pygments_lexer": "ipython3",
   "version": "3.8.10"
  },
  "orig_nbformat": 4
 },
 "nbformat": 4,
 "nbformat_minor": 2
}
