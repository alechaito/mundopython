{
 "cells": [
  {
   "cell_type": "code",
   "execution_count": 1,
   "metadata": {},
   "outputs": [
    {
     "name": "stdout",
     "output_type": "stream",
     "text": [
      "6\n",
      "15\n"
     ]
    }
   ],
   "source": [
    "NUMERO_GLOBAL_2 = 2\n",
    "NUMERO_GLOBAL_5 = 5\n",
    "\n",
    "def multiplicador(x, numero_global):\n",
    "    return x * numero_global\n",
    "\n",
    "# 3 * 2 = 6\n",
    "print(multiplicador(3, NUMERO_GLOBAL_2)) \n",
    "\n",
    "# 3 * 5 = 15\n",
    "print(multiplicador(3, NUMERO_GLOBAL_5))\n"
   ]
  },
  {
   "cell_type": "code",
   "execution_count": 3,
   "metadata": {},
   "outputs": [
    {
     "name": "stdout",
     "output_type": "stream",
     "text": [
      "6\n",
      "15\n",
      "30\n"
     ]
    }
   ],
   "source": [
    "def multiplicador_n(n):\n",
    "    def multiplicador(x):\n",
    "        return x * n\n",
    "    return multiplicador\n",
    "\n",
    "\n",
    "mult2 = multiplicador_n(2)\n",
    "\n",
    "# Multiplier of 5\n",
    "mult5 = multiplicador_n(5)\n",
    "\n",
    "# 3 * 2 = 6\n",
    "print(mult2(3))\n",
    "\n",
    "\n",
    "# 3 * 5 = 15\n",
    "print(mult5(3))\n",
    "\n",
    "# 2 * 5 * 3 = 30\n",
    "print(mult2(mult5(3)))"
   ]
  }
 ],
 "metadata": {
  "interpreter": {
   "hash": "916dbcbb3f70747c44a77c7bcd40155683ae19c65e1c03b4aa3499c5328201f1"
  },
  "kernelspec": {
   "display_name": "Python 3.8.10 64-bit",
   "language": "python",
   "name": "python3"
  },
  "language_info": {
   "codemirror_mode": {
    "name": "ipython",
    "version": 3
   },
   "file_extension": ".py",
   "mimetype": "text/x-python",
   "name": "python",
   "nbconvert_exporter": "python",
   "pygments_lexer": "ipython3",
   "version": "3.8.10"
  },
  "orig_nbformat": 4
 },
 "nbformat": 4,
 "nbformat_minor": 2
}
