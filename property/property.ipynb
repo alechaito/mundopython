{
 "cells": [
  {
   "cell_type": "code",
   "execution_count": 7,
   "metadata": {},
   "outputs": [
    {
     "name": "stdout",
     "output_type": "stream",
     "text": [
      "Definindo o valor...\n",
      "Resgatando o valor...\n",
      "37\n",
      "Definindo o valor...\n"
     ]
    },
    {
     "ename": "ValueError",
     "evalue": "Temperatura menor que -273.15 não existe.",
     "output_type": "error",
     "traceback": [
      "\u001b[0;31m---------------------------------------------------------------------------\u001b[0m",
      "\u001b[0;31mValueError\u001b[0m                                Traceback (most recent call last)",
      "Input \u001b[0;32mIn [7]\u001b[0m, in \u001b[0;36m<cell line: 25>\u001b[0;34m()\u001b[0m\n\u001b[1;32m     22\u001b[0m \u001b[38;5;28mprint\u001b[39m(human\u001b[38;5;241m.\u001b[39mget_temperatura())\n\u001b[1;32m     24\u001b[0m \u001b[38;5;66;03m# new constraint implementation\u001b[39;00m\n\u001b[0;32m---> 25\u001b[0m \u001b[43mhuman\u001b[49m\u001b[38;5;241;43m.\u001b[39;49m\u001b[43mset_temperatura\u001b[49m\u001b[43m(\u001b[49m\u001b[38;5;241;43m-\u001b[39;49m\u001b[38;5;241;43m300\u001b[39;49m\u001b[43m)\u001b[49m\n",
      "Input \u001b[0;32mIn [7]\u001b[0m, in \u001b[0;36mCelsius.set_temperatura\u001b[0;34m(self, value)\u001b[0m\n\u001b[1;32m     12\u001b[0m \u001b[38;5;28mprint\u001b[39m(\u001b[38;5;124m\"\u001b[39m\u001b[38;5;124mDefinindo o valor...\u001b[39m\u001b[38;5;124m\"\u001b[39m)\n\u001b[1;32m     13\u001b[0m \u001b[38;5;28;01mif\u001b[39;00m value \u001b[38;5;241m<\u001b[39m \u001b[38;5;241m-\u001b[39m\u001b[38;5;241m273.15\u001b[39m:\n\u001b[0;32m---> 14\u001b[0m     \u001b[38;5;28;01mraise\u001b[39;00m \u001b[38;5;167;01mValueError\u001b[39;00m(\u001b[38;5;124m\"\u001b[39m\u001b[38;5;124mTemperatura menor que -273.15 não existe.\u001b[39m\u001b[38;5;124m\"\u001b[39m)\n\u001b[1;32m     15\u001b[0m \u001b[38;5;28mself\u001b[39m\u001b[38;5;241m.\u001b[39m_temperatura \u001b[38;5;241m=\u001b[39m value\n",
      "\u001b[0;31mValueError\u001b[0m: Temperatura menor que -273.15 não existe."
     ]
    }
   ],
   "source": [
    "class Celsius:\n",
    "    def __init__(self, temperatura=0):\n",
    "        self.set_temperatura(temperatura)\n",
    "\n",
    "    # resgatar metodo: getter\n",
    "    def get_temperatura(self):\n",
    "        print(\"Resgatando o valor...\")\n",
    "        return self._temperatura\n",
    "\n",
    "    # atribuir metodo: setter\n",
    "    def set_temperatura(self, value):\n",
    "        print(\"Definindo o valor...\")\n",
    "        if value < -273.15:\n",
    "            raise ValueError(\"Temperatura menor que -273.15 não existe.\")\n",
    "        self._temperatura = value\n",
    "\n",
    "\n",
    "# Create a new object, set_temperature() internally called by __init__\n",
    "human = Celsius(37)\n",
    "\n",
    "# Get the temperature attribute via a getter\n",
    "print(human.get_temperatura())\n",
    "\n",
    "# new constraint implementation\n",
    "human.set_temperatura(-300)"
   ]
  },
  {
   "cell_type": "code",
   "execution_count": 9,
   "metadata": {},
   "outputs": [
    {
     "ename": "AttributeError",
     "evalue": "can't set attribute",
     "output_type": "error",
     "traceback": [
      "\u001b[0;31m---------------------------------------------------------------------------\u001b[0m",
      "\u001b[0;31mAttributeError\u001b[0m                            Traceback (most recent call last)",
      "Input \u001b[0;32mIn [9]\u001b[0m, in \u001b[0;36m<cell line: 19>\u001b[0;34m()\u001b[0m\n\u001b[1;32m     16\u001b[0m         \u001b[38;5;28mself\u001b[39m\u001b[38;5;241m.\u001b[39m_temperatura \u001b[38;5;241m=\u001b[39m value\n\u001b[1;32m     18\u001b[0m \u001b[38;5;66;03m# Create a new object, set_temperature() internally called by __init__\u001b[39;00m\n\u001b[0;32m---> 19\u001b[0m human \u001b[38;5;241m=\u001b[39m \u001b[43mCelsius\u001b[49m\u001b[43m(\u001b[49m\u001b[38;5;241;43m37\u001b[39;49m\u001b[43m)\u001b[49m\n\u001b[1;32m     21\u001b[0m \u001b[38;5;28mprint\u001b[39m(human\u001b[38;5;241m.\u001b[39mtemperatura)\n\u001b[1;32m     23\u001b[0m humano2 \u001b[38;5;241m=\u001b[39m Celsius(\u001b[38;5;241m-\u001b[39m\u001b[38;5;241m300\u001b[39m)\n",
      "Input \u001b[0;32mIn [9]\u001b[0m, in \u001b[0;36mCelsius.__init__\u001b[0;34m(self, temperatura)\u001b[0m\n\u001b[1;32m      3\u001b[0m \u001b[38;5;28;01mdef\u001b[39;00m \u001b[38;5;21m__init__\u001b[39m(\u001b[38;5;28mself\u001b[39m, temperatura\u001b[38;5;241m=\u001b[39m\u001b[38;5;241m0\u001b[39m):\n\u001b[0;32m----> 4\u001b[0m     \u001b[38;5;28;43mself\u001b[39;49m\u001b[38;5;241;43m.\u001b[39;49m\u001b[43mtemperatura\u001b[49m \u001b[38;5;241m=\u001b[39m temperatura\n",
      "\u001b[0;31mAttributeError\u001b[0m: can't set attribute"
     ]
    }
   ],
   "source": [
    "# Making Getters and Setter methods\n",
    "class Celsius:\n",
    "    def __init__(self, temperatura=0):\n",
    "        self.temperatura = temperatura\n",
    "\n",
    "    @property\n",
    "    def temperatura(self):\n",
    "        print(\"Resgatando o valor...\")\n",
    "        return self._temperatura\n",
    "\n",
    "    @temperatura.setter\n",
    "    def set_temperatura(self, value):\n",
    "        print(\"Definindo o valor...\")\n",
    "        if value < -273.15:\n",
    "            raise ValueError(\"Temperatura menor que -273.15 não existe.\")\n",
    "        self._temperatura = value\n",
    "\n",
    "# Create a new object, set_temperature() internally called by __init__\n",
    "human = Celsius(37)\n",
    "\n",
    "print(human.temperatura)\n",
    "\n",
    "humano2 = Celsius(-300)"
   ]
  }
 ],
 "metadata": {
  "interpreter": {
   "hash": "916dbcbb3f70747c44a77c7bcd40155683ae19c65e1c03b4aa3499c5328201f1"
  },
  "kernelspec": {
   "display_name": "Python 3.8.10 64-bit",
   "language": "python",
   "name": "python3"
  },
  "language_info": {
   "codemirror_mode": {
    "name": "ipython",
    "version": 3
   },
   "file_extension": ".py",
   "mimetype": "text/x-python",
   "name": "python",
   "nbconvert_exporter": "python",
   "pygments_lexer": "ipython3",
   "version": "3.8.10"
  },
  "orig_nbformat": 4
 },
 "nbformat": 4,
 "nbformat_minor": 2
}
