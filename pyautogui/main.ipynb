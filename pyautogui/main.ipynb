{
 "cells": [
  {
   "cell_type": "code",
   "execution_count": null,
   "metadata": {},
   "outputs": [],
   "source": [
    "\n",
    "\n",
    "import pyautogui as pyag\n",
    "\n",
    "pyag.click('button.png')\n",
    "\n",
    "pyag.write(\n",
    "    'Hello world!', \n",
    "    interval=0.25\n",
    ")\n",
    "pyag.press('esc') \n",
    "\n",
    "button = pyag.locateOnScreen('button.png')\n",
    "pyag.click(button)\n",
    "\n",
    "buttons = pyag.locateAllOnScreen('button.pg')\n",
    "map(\n",
    "    lambda button: pyag.click(button), \n",
    "    buttons\n",
    ")\n",
    "\n",
    "pyag.scroll(10)\n",
    "pyag.scroll(-10)"
   ]
  }
 ],
 "metadata": {
  "language_info": {
   "name": "python"
  },
  "orig_nbformat": 4
 },
 "nbformat": 4,
 "nbformat_minor": 2
}
