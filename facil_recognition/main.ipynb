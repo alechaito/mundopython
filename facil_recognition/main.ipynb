{
 "cells": [
  {
   "cell_type": "code",
   "execution_count": 5,
   "metadata": {},
   "outputs": [
    {
     "name": "stdout",
     "output_type": "stream",
     "text": [
      "E o Whinderson\n",
      "Nao e o Whinderson\n",
      "E o Whinderson\n",
      "Nao e o Whinderson\n"
     ]
    }
   ],
   "source": [
    "import face_recognition as fc\n",
    "\n",
    "w = fc.load_image_file(\"whin.png\")\n",
    "wc = fc.face_encodings(w)[0]\n",
    "\n",
    "for i in range(0, 4):\n",
    "    d = fc.load_image_file(f\"{i}.png\")\n",
    "    dc = fc.face_encodings(d)[0]\n",
    "    resultados = fc.compare_faces(\n",
    "        [wc], dc\n",
    "    )\n",
    "    if resultados[0] == True:\n",
    "        print(\"E o Whinderson\")\n",
    "    else:\n",
    "        print(\"Nao e o Whinderson\")"
   ]
  }
 ],
 "metadata": {
  "interpreter": {
   "hash": "916dbcbb3f70747c44a77c7bcd40155683ae19c65e1c03b4aa3499c5328201f1"
  },
  "kernelspec": {
   "display_name": "Python 3.8.10 64-bit",
   "language": "python",
   "name": "python3"
  },
  "language_info": {
   "codemirror_mode": {
    "name": "ipython",
    "version": 3
   },
   "file_extension": ".py",
   "mimetype": "text/x-python",
   "name": "python",
   "nbconvert_exporter": "python",
   "pygments_lexer": "ipython3",
   "version": "3.8.10"
  },
  "orig_nbformat": 4
 },
 "nbformat": 4,
 "nbformat_minor": 2
}
