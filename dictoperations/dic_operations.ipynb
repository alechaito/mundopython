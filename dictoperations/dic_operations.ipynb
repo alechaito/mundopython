{
 "cells": [
  {
   "cell_type": "code",
   "execution_count": 1,
   "metadata": {},
   "outputs": [
    {
     "name": "stdout",
     "output_type": "stream",
     "text": [
      "{'a': 1, 'b': 1, 'c': 1}\n"
     ]
    }
   ],
   "source": [
    "# from keys\n",
    "chaves = ['a', 'b', 'c']\n",
    "# creates a dictionary with keys and values\n",
    "dicionario = dict.fromkeys(chaves, 1)\n",
    "print(dicionario)"
   ]
  },
  {
   "cell_type": "code",
   "execution_count": 2,
   "metadata": {},
   "outputs": [
    {
     "name": "stdout",
     "output_type": "stream",
     "text": [
      "{'Fisica': 6, 'Matemática': 8, 'Música': 5}\n"
     ]
    }
   ],
   "source": [
    "# update\n",
    "materias = {'Fisica':6, 'Matemática':8}\n",
    "materias_paralelas = {'Música':5}\n",
    "materias.update(materias_paralelas)\n",
    "print(materias)"
   ]
  },
  {
   "cell_type": "code",
   "execution_count": 3,
   "metadata": {},
   "outputs": [
    {
     "name": "stdout",
     "output_type": "stream",
     "text": [
      "{'nome': 'Joao', 'salario': 1200}\n"
     ]
    }
   ],
   "source": [
    "# set default\n",
    "pessoa = {'nome': 'Joao'}\n",
    "pessoa.setdefault('salario', 1200)\n",
    "print(pessoa)"
   ]
  },
  {
   "cell_type": "code",
   "execution_count": 4,
   "metadata": {},
   "outputs": [
    {
     "name": "stdout",
     "output_type": "stream",
     "text": [
      "dict_items([('a', 1), ('b', 2), ('c', 3)])\n",
      "dict_values([1, 2, 3])\n",
      "dict_keys(['a', 'b', 'c'])\n"
     ]
    }
   ],
   "source": [
    "dicionario = {'a':1, 'b':2, 'c':3}\n",
    "# items\n",
    "print(dicionario.items())\n",
    "\n",
    "# values\n",
    "print(dicionario.values())\n",
    "\n",
    "# keys\n",
    "print(dicionario.keys())"
   ]
  }
 ],
 "metadata": {
  "interpreter": {
   "hash": "916dbcbb3f70747c44a77c7bcd40155683ae19c65e1c03b4aa3499c5328201f1"
  },
  "kernelspec": {
   "display_name": "Python 3.8.10 64-bit",
   "language": "python",
   "name": "python3"
  },
  "language_info": {
   "codemirror_mode": {
    "name": "ipython",
    "version": 3
   },
   "file_extension": ".py",
   "mimetype": "text/x-python",
   "name": "python",
   "nbconvert_exporter": "python",
   "pygments_lexer": "ipython3",
   "version": "3.8.10"
  },
  "orig_nbformat": 4
 },
 "nbformat": 4,
 "nbformat_minor": 2
}
