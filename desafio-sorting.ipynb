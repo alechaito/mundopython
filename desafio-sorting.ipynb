{
 "cells": [
  {
   "cell_type": "code",
   "execution_count": 8,
   "metadata": {},
   "outputs": [
    {
     "name": "stdout",
     "output_type": "stream",
     "text": [
      "[1, 2, 3, 4]\n",
      "[1, 3, 2, 4]\n",
      "['o', 'r', 't', 'i', 'n', 'g']\n",
      "['S']\n",
      "['g', 'i', 'n', 'o', 'r', 't']\n",
      "['S']\n",
      "g i n o r t S 1 3 2 4\n"
     ]
    }
   ],
   "source": [
    "my_string = \"Sorting1234\"\n",
    "\n",
    "#list comprehension\n",
    "numbers = [\n",
    "    int(number) \n",
    "    for number in my_string \n",
    "    if number.isdigit()\n",
    "]\n",
    "\n",
    "print(numbers)\n",
    "\n",
    "#ordenação\n",
    "numbers = sorted(numbers, \n",
    "    key=lambda item: item % 2 == 0\n",
    ")\n",
    "print(numbers)\n",
    "\n",
    "\n",
    "lower_letters = [\n",
    "    letter \n",
    "    for letter in my_string \n",
    "    if not letter.isdigit() \n",
    "    and letter.islower()\n",
    "]\n",
    "\n",
    "upper_letters = [\n",
    "    letter \n",
    "    for letter in my_string \n",
    "    if not letter.isdigit() \n",
    "    and letter.isupper()\n",
    "]\n",
    "\n",
    "print(lower_letters)\n",
    "print(upper_letters)\n",
    "\n",
    "lower_letters = sorted(lower_letters)\n",
    "upper_letters = sorted(upper_letters)\n",
    "\n",
    "print(lower_letters)\n",
    "print(upper_letters)\n",
    "\n",
    "result = lower_letters + upper_letters + numbers\n",
    "\n",
    "print(*result)"
   ]
  }
 ],
 "metadata": {
  "interpreter": {
   "hash": "916dbcbb3f70747c44a77c7bcd40155683ae19c65e1c03b4aa3499c5328201f1"
  },
  "kernelspec": {
   "display_name": "Python 3.8.10 64-bit",
   "language": "python",
   "name": "python3"
  },
  "language_info": {
   "codemirror_mode": {
    "name": "ipython",
    "version": 3
   },
   "file_extension": ".py",
   "mimetype": "text/x-python",
   "name": "python",
   "nbconvert_exporter": "python",
   "pygments_lexer": "ipython3",
   "version": "3.8.10"
  },
  "orig_nbformat": 4
 },
 "nbformat": 4,
 "nbformat_minor": 2
}
