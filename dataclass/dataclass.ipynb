{
 "cells": [
  {
   "cell_type": "code",
   "execution_count": 17,
   "metadata": {},
   "outputs": [
    {
     "name": "stdout",
     "output_type": "stream",
     "text": [
      "<__main__.Ponto object at 0x7fdf20b73550>\n",
      "<__main__.Ponto object at 0x7fdf20b2bc40>\n",
      "False\n"
     ]
    }
   ],
   "source": [
    "class Ponto:\n",
    "    def __init__(self, x=0.0, y=0.0):\n",
    "        self.x = x\n",
    "        self.y = y\n",
    "    \n",
    "    \n",
    "ponto_1 = Ponto(2, 3.4)\n",
    "ponto_2 = Ponto(2, 3.4)\n",
    "\n",
    "print(ponto_1)\n",
    "print(ponto_2)\n",
    "print(ponto_1 == ponto_2)"
   ]
  },
  {
   "cell_type": "code",
   "execution_count": 9,
   "metadata": {},
   "outputs": [
    {
     "name": "stdout",
     "output_type": "stream",
     "text": [
      "Ponto(x=2, y=3.4)\n",
      "Ponto(x=2, y=3.4)\n",
      "True\n"
     ]
    }
   ],
   "source": [
    "from dataclasses import dataclass\n",
    "\n",
    "#repr está ativo por padrão\n",
    "# compare está ativo por padrão\n",
    "@dataclass\n",
    "class Ponto:\n",
    "    x: float = 0.0\n",
    "    y: float = 0.0\n",
    "    \n",
    "ponto_1 = Ponto(2, 3.4)\n",
    "ponto_2 = Ponto(2, 3.4)\n",
    "\n",
    "print(ponto_1)\n",
    "print(ponto_2)\n",
    "print(ponto_1 == ponto_2)"
   ]
  }
 ],
 "metadata": {
  "interpreter": {
   "hash": "916dbcbb3f70747c44a77c7bcd40155683ae19c65e1c03b4aa3499c5328201f1"
  },
  "kernelspec": {
   "display_name": "Python 3.8.10 64-bit",
   "language": "python",
   "name": "python3"
  },
  "language_info": {
   "codemirror_mode": {
    "name": "ipython",
    "version": 3
   },
   "file_extension": ".py",
   "mimetype": "text/x-python",
   "name": "python",
   "nbconvert_exporter": "python",
   "pygments_lexer": "ipython3",
   "version": "3.8.10"
  },
  "orig_nbformat": 4
 },
 "nbformat": 4,
 "nbformat_minor": 2
}
