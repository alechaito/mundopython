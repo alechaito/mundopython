{
 "cells": [
  {
   "cell_type": "markdown",
   "metadata": {},
   "source": [
    "#listas iniciam na posição 0\n",
    "\n",
    "#sintaxe do slice\n",
    "a[inicio:fim:passo] # por padrao o passo é 1\n",
    "\n",
    "a[inicio:fim]  # inicio ate o final-1\n",
    "a[inicio:]      # inicio ate o final\n",
    "a[:final]       # do começo até o final-1\n",
    "a[:]           # copia da lista"
   ]
  },
  {
   "cell_type": "code",
   "execution_count": 2,
   "metadata": {},
   "outputs": [
    {
     "name": "stdout",
     "output_type": "stream",
     "text": [
      "[1, 2, 3]\n",
      "[4, 5]\n",
      "[0, 1, 2, 3]\n",
      "[0, 1, 2, 3, 4, 5]\n",
      "5\n",
      "[4, 5]\n",
      "[0, 1, 2, 3]\n",
      "[5, 4, 3, 2, 1, 0]\n",
      "[3, 2, 1, 0]\n"
     ]
    }
   ],
   "source": [
    "lista = [0, 1, 2, 3, 4, 5]\n",
    "\n",
    "print(lista[1:4]) #posicao 1 até 3\n",
    "print(lista[4:]) #posicao 4 até o final\n",
    "print(lista[:4]) #lista da posicao 0 até 3\n",
    "print(lista[:]) # copia da lista\n",
    "\n",
    "print(lista[-1]) # ultimo elemento\n",
    "print(lista[-2:]) #ultimos 2 elementos\n",
    "print(lista[:-2]) #tudo menos os ultimos 2 elementos\n",
    "\n",
    "print(lista[::-1])\n",
    "print(lista[3::-1])"
   ]
  }
 ],
 "metadata": {
  "interpreter": {
   "hash": "916dbcbb3f70747c44a77c7bcd40155683ae19c65e1c03b4aa3499c5328201f1"
  },
  "kernelspec": {
   "display_name": "Python 3.8.10 64-bit",
   "language": "python",
   "name": "python3"
  },
  "language_info": {
   "codemirror_mode": {
    "name": "ipython",
    "version": 3
   },
   "file_extension": ".py",
   "mimetype": "text/x-python",
   "name": "python",
   "nbconvert_exporter": "python",
   "pygments_lexer": "ipython3",
   "version": "3.8.10"
  },
  "orig_nbformat": 4
 },
 "nbformat": 4,
 "nbformat_minor": 2
}
