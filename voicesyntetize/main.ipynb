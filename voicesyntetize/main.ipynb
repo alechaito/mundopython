{
 "cells": [
  {
   "cell_type": "code",
   "execution_count": 4,
   "metadata": {},
   "outputs": [
    {
     "name": "stderr",
     "output_type": "stream",
     "text": [
      "[000055e7500f15b0] main libvlc: Executando o VLC com a interface padrão. Use 'cvlc' para usar o VLC sem interface.\n"
     ]
    }
   ],
   "source": [
    "from gtts import gTTS\n",
    "import os\n",
    "  \n",
    "sound = gTTS(\n",
    "    text='''Desenrola, \n",
    "    bate, \n",
    "    joga de ladinho!''', \n",
    "    lang='pt', \n",
    "    slow=False\n",
    ")\n",
    "  \n",
    "sound.save(\"sound.mp3\")\n",
    "os.system(\"vlc sound.mp3\")"
   ]
  }
 ],
 "metadata": {
  "interpreter": {
   "hash": "916dbcbb3f70747c44a77c7bcd40155683ae19c65e1c03b4aa3499c5328201f1"
  },
  "kernelspec": {
   "display_name": "Python 3.8.10 64-bit",
   "language": "python",
   "name": "python3"
  },
  "language_info": {
   "codemirror_mode": {
    "name": "ipython",
    "version": 3
   },
   "file_extension": ".py",
   "mimetype": "text/x-python",
   "name": "python",
   "nbconvert_exporter": "python",
   "pygments_lexer": "ipython3",
   "version": "3.8.10"
  },
  "orig_nbformat": 4
 },
 "nbformat": 4,
 "nbformat_minor": 2
}
